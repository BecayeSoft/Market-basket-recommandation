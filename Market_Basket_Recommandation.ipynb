{
 "cells": [
  {
   "cell_type": "markdown",
   "metadata": {
    "id": "1fziHl7Ar94J"
   },
   "source": [
    "# Market Basket Recommandation"
   ]
  },
  {
   "cell_type": "markdown",
   "metadata": {
    "id": "eiNwni1xsEgT"
   },
   "source": [
    "## Importing the libraries"
   ]
  },
  {
   "cell_type": "code",
   "execution_count": 9,
   "metadata": {
    "id": "DUF77Qr1vqyM"
   },
   "outputs": [],
   "source": [
    "# !pip install apyori"
   ]
  },
  {
   "cell_type": "code",
   "execution_count": 10,
   "metadata": {
    "id": "UJfitBClsJlT"
   },
   "outputs": [],
   "source": [
    "import numpy as np\n",
    "import matplotlib.pyplot as plt\n",
    "import pandas as pd"
   ]
  },
  {
   "cell_type": "markdown",
   "metadata": {
    "id": "vLt-7XUKsXBd"
   },
   "source": [
    "## Data Preprocessing"
   ]
  },
  {
   "cell_type": "code",
   "execution_count": 11,
   "metadata": {
    "id": "XyYn-aPWbnNu"
   },
   "outputs": [],
   "source": [
    "dataset = pd.read_csv('Market_Basket_Optimisation.csv', header=None) #no header\n",
    "transactions = []"
   ]
  },
  {
   "cell_type": "code",
   "execution_count": 12,
   "metadata": {
    "colab": {
     "base_uri": "https://localhost:8080/"
    },
    "id": "pvQ7At5Lb3wF",
    "outputId": "50d68db4-4b50-4446-bf72-d0c94d7baac6"
   },
   "outputs": [
    {
     "data": {
      "text/plain": [
       "array([['shrimp', 'almonds', 'avocado', ..., 'frozen smoothie',\n",
       "        'spinach', 'olive oil'],\n",
       "       ['burgers', 'meatballs', 'eggs', ..., nan, nan, nan],\n",
       "       ['chutney', nan, nan, ..., nan, nan, nan],\n",
       "       ...,\n",
       "       ['chicken', nan, nan, ..., nan, nan, nan],\n",
       "       ['escalope', 'green tea', nan, ..., nan, nan, nan],\n",
       "       ['eggs', 'frozen smoothie', 'yogurt cake', ..., nan, nan, nan]],\n",
       "      dtype=object)"
      ]
     },
     "execution_count": 12,
     "metadata": {},
     "output_type": "execute_result"
    }
   ],
   "source": [
    "dataset.values"
   ]
  },
  {
   "cell_type": "code",
   "execution_count": 13,
   "metadata": {
    "id": "FHPf__CSFZm_"
   },
   "outputs": [],
   "source": [
    "dataset = pd.read_csv('Market_Basket_Optimisation.csv', header=None) #no header\n",
    "transactions = []\n",
    "\n",
    "# Adds the value if each row as a string\n",
    "for i in range(0, 7501):\n",
    "  transactions.append([str(dataset.values[i, j]) for j in range(0, 20)])"
   ]
  },
  {
   "cell_type": "code",
   "execution_count": 14,
   "metadata": {
    "colab": {
     "base_uri": "https://localhost:8080/"
    },
    "id": "ZiXRj1DfxRdG",
    "outputId": "59c5cb5a-3a21-4e9e-e9c9-adedb5c269e6"
   },
   "outputs": [
    {
     "name": "stdout",
     "output_type": "stream",
     "text": [
      "                 0                  1            2                 3   \\\n",
      "0            shrimp            almonds      avocado    vegetables mix   \n",
      "1           burgers          meatballs         eggs               NaN   \n",
      "2           chutney                NaN          NaN               NaN   \n",
      "3            turkey            avocado          NaN               NaN   \n",
      "4     mineral water               milk   energy bar  whole wheat rice   \n",
      "...             ...                ...          ...               ...   \n",
      "7496         butter         light mayo  fresh bread               NaN   \n",
      "7497        burgers  frozen vegetables         eggs      french fries   \n",
      "7498        chicken                NaN          NaN               NaN   \n",
      "7499       escalope          green tea          NaN               NaN   \n",
      "7500           eggs    frozen smoothie  yogurt cake    low fat yogurt   \n",
      "\n",
      "                4                 5     6               7             8   \\\n",
      "0     green grapes  whole weat flour  yams  cottage cheese  energy drink   \n",
      "1              NaN               NaN   NaN             NaN           NaN   \n",
      "2              NaN               NaN   NaN             NaN           NaN   \n",
      "3              NaN               NaN   NaN             NaN           NaN   \n",
      "4        green tea               NaN   NaN             NaN           NaN   \n",
      "...            ...               ...   ...             ...           ...   \n",
      "7496           NaN               NaN   NaN             NaN           NaN   \n",
      "7497     magazines         green tea   NaN             NaN           NaN   \n",
      "7498           NaN               NaN   NaN             NaN           NaN   \n",
      "7499           NaN               NaN   NaN             NaN           NaN   \n",
      "7500           NaN               NaN   NaN             NaN           NaN   \n",
      "\n",
      "                9               10         11     12     13             14  \\\n",
      "0     tomato juice  low fat yogurt  green tea  honey  salad  mineral water   \n",
      "1              NaN             NaN        NaN    NaN    NaN            NaN   \n",
      "2              NaN             NaN        NaN    NaN    NaN            NaN   \n",
      "3              NaN             NaN        NaN    NaN    NaN            NaN   \n",
      "4              NaN             NaN        NaN    NaN    NaN            NaN   \n",
      "...            ...             ...        ...    ...    ...            ...   \n",
      "7496           NaN             NaN        NaN    NaN    NaN            NaN   \n",
      "7497           NaN             NaN        NaN    NaN    NaN            NaN   \n",
      "7498           NaN             NaN        NaN    NaN    NaN            NaN   \n",
      "7499           NaN             NaN        NaN    NaN    NaN            NaN   \n",
      "7500           NaN             NaN        NaN    NaN    NaN            NaN   \n",
      "\n",
      "          15                 16               17       18         19  \n",
      "0     salmon  antioxydant juice  frozen smoothie  spinach  olive oil  \n",
      "1        NaN                NaN              NaN      NaN        NaN  \n",
      "2        NaN                NaN              NaN      NaN        NaN  \n",
      "3        NaN                NaN              NaN      NaN        NaN  \n",
      "4        NaN                NaN              NaN      NaN        NaN  \n",
      "...      ...                ...              ...      ...        ...  \n",
      "7496     NaN                NaN              NaN      NaN        NaN  \n",
      "7497     NaN                NaN              NaN      NaN        NaN  \n",
      "7498     NaN                NaN              NaN      NaN        NaN  \n",
      "7499     NaN                NaN              NaN      NaN        NaN  \n",
      "7500     NaN                NaN              NaN      NaN        NaN  \n",
      "\n",
      "[7501 rows x 20 columns]\n"
     ]
    }
   ],
   "source": [
    "print(dataset)"
   ]
  },
  {
   "cell_type": "markdown",
   "metadata": {
    "id": "1wYZdBd5sea_"
   },
   "source": [
    "## Training the Apriori model on the dataset"
   ]
  },
  {
   "cell_type": "code",
   "execution_count": 15,
   "metadata": {
    "id": "xZP0XLQPSnYz"
   },
   "outputs": [],
   "source": [
    "from apyori import apriori\n",
    "rules = apriori(transactions=transactions, min_support=0.003, min_confidence=0.2, min_lift=3, min_length=2, max_length=2)"
   ]
  },
  {
   "cell_type": "markdown",
   "metadata": {
    "id": "b176YNwWspiO"
   },
   "source": [
    "## Displaying the results"
   ]
  },
  {
   "cell_type": "markdown",
   "metadata": {
    "id": "iO6bF_dImT-E"
   },
   "source": [
    "### Results from the output of the apriori function"
   ]
  },
  {
   "cell_type": "code",
   "execution_count": 16,
   "metadata": {
    "colab": {
     "base_uri": "https://localhost:8080/"
    },
    "id": "Pe_MR760SsfF",
    "outputId": "4e2b69f8-6a21-40ee-8d0d-259cb342cb28"
   },
   "outputs": [
    {
     "name": "stdout",
     "output_type": "stream",
     "text": [
      "[RelationRecord(items=frozenset({'light cream', 'chicken'}), support=0.004532728969470737, ordered_statistics=[OrderedStatistic(items_base=frozenset({'light cream'}), items_add=frozenset({'chicken'}), confidence=0.29059829059829057, lift=4.84395061728395)]), RelationRecord(items=frozenset({'escalope', 'mushroom cream sauce'}), support=0.005732568990801226, ordered_statistics=[OrderedStatistic(items_base=frozenset({'mushroom cream sauce'}), items_add=frozenset({'escalope'}), confidence=0.3006993006993007, lift=3.790832696715049)]), RelationRecord(items=frozenset({'escalope', 'pasta'}), support=0.005865884548726837, ordered_statistics=[OrderedStatistic(items_base=frozenset({'pasta'}), items_add=frozenset({'escalope'}), confidence=0.3728813559322034, lift=4.700811850163794)]), RelationRecord(items=frozenset({'fromage blanc', 'honey'}), support=0.003332888948140248, ordered_statistics=[OrderedStatistic(items_base=frozenset({'fromage blanc'}), items_add=frozenset({'honey'}), confidence=0.2450980392156863, lift=5.164270764485569)]), RelationRecord(items=frozenset({'herb & pepper', 'ground beef'}), support=0.015997866951073192, ordered_statistics=[OrderedStatistic(items_base=frozenset({'herb & pepper'}), items_add=frozenset({'ground beef'}), confidence=0.3234501347708895, lift=3.2919938411349285)]), RelationRecord(items=frozenset({'tomato sauce', 'ground beef'}), support=0.005332622317024397, ordered_statistics=[OrderedStatistic(items_base=frozenset({'tomato sauce'}), items_add=frozenset({'ground beef'}), confidence=0.3773584905660377, lift=3.840659481324083)]), RelationRecord(items=frozenset({'olive oil', 'light cream'}), support=0.003199573390214638, ordered_statistics=[OrderedStatistic(items_base=frozenset({'light cream'}), items_add=frozenset({'olive oil'}), confidence=0.20512820512820515, lift=3.1147098515519573)]), RelationRecord(items=frozenset({'whole wheat pasta', 'olive oil'}), support=0.007998933475536596, ordered_statistics=[OrderedStatistic(items_base=frozenset({'whole wheat pasta'}), items_add=frozenset({'olive oil'}), confidence=0.2714932126696833, lift=4.122410097642296)]), RelationRecord(items=frozenset({'pasta', 'shrimp'}), support=0.005065991201173177, ordered_statistics=[OrderedStatistic(items_base=frozenset({'pasta'}), items_add=frozenset({'shrimp'}), confidence=0.3220338983050847, lift=4.506672147735896)])]\n"
     ]
    }
   ],
   "source": [
    "results = list(rules)\n",
    "print(results)"
   ]
  },
  {
   "cell_type": "markdown",
   "metadata": {
    "id": "MFkQP-fcjDBC"
   },
   "source": [
    "### Putting the results well organised into a Pandas DataFrame"
   ]
  },
  {
   "cell_type": "markdown",
   "metadata": {
    "id": "BuVUP5g5jbPJ"
   },
   "source": [
    "Shape of the list (First item)\n",
    "```\n",
    "[\n",
    "RelationRecord(\n",
    "      items=frozenset({'light cream', 'chicken'}), \n",
    "      support=0, \n",
    "      ordered_statistics=[ \n",
    "          OrderedStatistic(\n",
    "              items_base=frozenset({'light cream'}),\n",
    "              items_add=frozenset({'chicken'}),\n",
    "              confidence=0,\n",
    "              lift=4\n",
    "          )\n",
    "      ])\n",
    "\n",
    "2nd item\n",
    "3rd item\n",
    "...\n",
    "]\n",
    "```\n",
    "\n",
    "To get the confidence of the 1st item -> results[0][2][0][2]"
   ]
  },
  {
   "cell_type": "code",
   "execution_count": 17,
   "metadata": {
    "id": "Yxc1WwwXStHQ"
   },
   "outputs": [],
   "source": [
    "def inspect(results):\n",
    "    lhs = [result[2][0][0] for result in results]\n",
    "    rhs = [result[2][0][1] for result in results] \n",
    "    support = [result[1] for result in results]\n",
    "    confidence = [result[2][0][2] for result in results]\n",
    "    lift = [result[2][0][3] for result in results]\n",
    "    \n",
    "    # joining all the items \n",
    "    return zip(lhs, rhs, support, confidence, lift)\n",
    "\n",
    "resultsInDataFrame = pd.DataFrame(inspect(results), columns=[\"Left hand side\", \"Right hand side\", \"Support\", \"Confidence\", \"Lift\"])"
   ]
  },
  {
   "cell_type": "markdown",
   "metadata": {
    "id": "Pfn-G1eAjjLz"
   },
   "source": [
    "### Displaying the results non sorted"
   ]
  },
  {
   "cell_type": "code",
   "execution_count": 18,
   "metadata": {
    "colab": {
     "base_uri": "https://localhost:8080/",
     "height": 332
    },
    "id": "mnqv8LsuS0Ba",
    "outputId": "0337b323-e31b-441a-fc55-5f761ccb792e"
   },
   "outputs": [
    {
     "data": {
      "text/html": [
       "<div>\n",
       "<style scoped>\n",
       "    .dataframe tbody tr th:only-of-type {\n",
       "        vertical-align: middle;\n",
       "    }\n",
       "\n",
       "    .dataframe tbody tr th {\n",
       "        vertical-align: top;\n",
       "    }\n",
       "\n",
       "    .dataframe thead th {\n",
       "        text-align: right;\n",
       "    }\n",
       "</style>\n",
       "<table border=\"1\" class=\"dataframe\">\n",
       "  <thead>\n",
       "    <tr style=\"text-align: right;\">\n",
       "      <th></th>\n",
       "      <th>Left hand side</th>\n",
       "      <th>Right hand side</th>\n",
       "      <th>Support</th>\n",
       "      <th>Confidence</th>\n",
       "      <th>Lift</th>\n",
       "    </tr>\n",
       "  </thead>\n",
       "  <tbody>\n",
       "    <tr>\n",
       "      <th>0</th>\n",
       "      <td>(light cream)</td>\n",
       "      <td>(chicken)</td>\n",
       "      <td>0.004533</td>\n",
       "      <td>0.290598</td>\n",
       "      <td>4.843951</td>\n",
       "    </tr>\n",
       "    <tr>\n",
       "      <th>1</th>\n",
       "      <td>(mushroom cream sauce)</td>\n",
       "      <td>(escalope)</td>\n",
       "      <td>0.005733</td>\n",
       "      <td>0.300699</td>\n",
       "      <td>3.790833</td>\n",
       "    </tr>\n",
       "    <tr>\n",
       "      <th>2</th>\n",
       "      <td>(pasta)</td>\n",
       "      <td>(escalope)</td>\n",
       "      <td>0.005866</td>\n",
       "      <td>0.372881</td>\n",
       "      <td>4.700812</td>\n",
       "    </tr>\n",
       "    <tr>\n",
       "      <th>3</th>\n",
       "      <td>(fromage blanc)</td>\n",
       "      <td>(honey)</td>\n",
       "      <td>0.003333</td>\n",
       "      <td>0.245098</td>\n",
       "      <td>5.164271</td>\n",
       "    </tr>\n",
       "    <tr>\n",
       "      <th>4</th>\n",
       "      <td>(herb &amp; pepper)</td>\n",
       "      <td>(ground beef)</td>\n",
       "      <td>0.015998</td>\n",
       "      <td>0.323450</td>\n",
       "      <td>3.291994</td>\n",
       "    </tr>\n",
       "    <tr>\n",
       "      <th>5</th>\n",
       "      <td>(tomato sauce)</td>\n",
       "      <td>(ground beef)</td>\n",
       "      <td>0.005333</td>\n",
       "      <td>0.377358</td>\n",
       "      <td>3.840659</td>\n",
       "    </tr>\n",
       "    <tr>\n",
       "      <th>6</th>\n",
       "      <td>(light cream)</td>\n",
       "      <td>(olive oil)</td>\n",
       "      <td>0.003200</td>\n",
       "      <td>0.205128</td>\n",
       "      <td>3.114710</td>\n",
       "    </tr>\n",
       "    <tr>\n",
       "      <th>7</th>\n",
       "      <td>(whole wheat pasta)</td>\n",
       "      <td>(olive oil)</td>\n",
       "      <td>0.007999</td>\n",
       "      <td>0.271493</td>\n",
       "      <td>4.122410</td>\n",
       "    </tr>\n",
       "    <tr>\n",
       "      <th>8</th>\n",
       "      <td>(pasta)</td>\n",
       "      <td>(shrimp)</td>\n",
       "      <td>0.005066</td>\n",
       "      <td>0.322034</td>\n",
       "      <td>4.506672</td>\n",
       "    </tr>\n",
       "  </tbody>\n",
       "</table>\n",
       "</div>"
      ],
      "text/plain": [
       "           Left hand side Right hand side   Support  Confidence      Lift\n",
       "0           (light cream)       (chicken)  0.004533    0.290598  4.843951\n",
       "1  (mushroom cream sauce)      (escalope)  0.005733    0.300699  3.790833\n",
       "2                 (pasta)      (escalope)  0.005866    0.372881  4.700812\n",
       "3         (fromage blanc)         (honey)  0.003333    0.245098  5.164271\n",
       "4         (herb & pepper)   (ground beef)  0.015998    0.323450  3.291994\n",
       "5          (tomato sauce)   (ground beef)  0.005333    0.377358  3.840659\n",
       "6           (light cream)     (olive oil)  0.003200    0.205128  3.114710\n",
       "7     (whole wheat pasta)     (olive oil)  0.007999    0.271493  4.122410\n",
       "8                 (pasta)        (shrimp)  0.005066    0.322034  4.506672"
      ]
     },
     "execution_count": 18,
     "metadata": {},
     "output_type": "execute_result"
    }
   ],
   "source": [
    "resultsInDataFrame"
   ]
  },
  {
   "cell_type": "markdown",
   "metadata": {
    "id": "IjrrlYW4jpTR"
   },
   "source": [
    "### Displaying the results sorted by descending lifts"
   ]
  },
  {
   "cell_type": "code",
   "execution_count": 19,
   "metadata": {
    "colab": {
     "base_uri": "https://localhost:8080/",
     "height": 332
    },
    "id": "pKeVjvkcS2qY",
    "outputId": "83069b18-2a58-42de-df85-ba2d1851e27b"
   },
   "outputs": [
    {
     "data": {
      "text/html": [
       "<div>\n",
       "<style scoped>\n",
       "    .dataframe tbody tr th:only-of-type {\n",
       "        vertical-align: middle;\n",
       "    }\n",
       "\n",
       "    .dataframe tbody tr th {\n",
       "        vertical-align: top;\n",
       "    }\n",
       "\n",
       "    .dataframe thead th {\n",
       "        text-align: right;\n",
       "    }\n",
       "</style>\n",
       "<table border=\"1\" class=\"dataframe\">\n",
       "  <thead>\n",
       "    <tr style=\"text-align: right;\">\n",
       "      <th></th>\n",
       "      <th>Left hand side</th>\n",
       "      <th>Right hand side</th>\n",
       "      <th>Support</th>\n",
       "      <th>Confidence</th>\n",
       "      <th>Lift</th>\n",
       "    </tr>\n",
       "  </thead>\n",
       "  <tbody>\n",
       "    <tr>\n",
       "      <th>3</th>\n",
       "      <td>(fromage blanc)</td>\n",
       "      <td>(honey)</td>\n",
       "      <td>0.003333</td>\n",
       "      <td>0.245098</td>\n",
       "      <td>5.164271</td>\n",
       "    </tr>\n",
       "    <tr>\n",
       "      <th>0</th>\n",
       "      <td>(light cream)</td>\n",
       "      <td>(chicken)</td>\n",
       "      <td>0.004533</td>\n",
       "      <td>0.290598</td>\n",
       "      <td>4.843951</td>\n",
       "    </tr>\n",
       "    <tr>\n",
       "      <th>2</th>\n",
       "      <td>(pasta)</td>\n",
       "      <td>(escalope)</td>\n",
       "      <td>0.005866</td>\n",
       "      <td>0.372881</td>\n",
       "      <td>4.700812</td>\n",
       "    </tr>\n",
       "    <tr>\n",
       "      <th>8</th>\n",
       "      <td>(pasta)</td>\n",
       "      <td>(shrimp)</td>\n",
       "      <td>0.005066</td>\n",
       "      <td>0.322034</td>\n",
       "      <td>4.506672</td>\n",
       "    </tr>\n",
       "    <tr>\n",
       "      <th>7</th>\n",
       "      <td>(whole wheat pasta)</td>\n",
       "      <td>(olive oil)</td>\n",
       "      <td>0.007999</td>\n",
       "      <td>0.271493</td>\n",
       "      <td>4.122410</td>\n",
       "    </tr>\n",
       "    <tr>\n",
       "      <th>5</th>\n",
       "      <td>(tomato sauce)</td>\n",
       "      <td>(ground beef)</td>\n",
       "      <td>0.005333</td>\n",
       "      <td>0.377358</td>\n",
       "      <td>3.840659</td>\n",
       "    </tr>\n",
       "    <tr>\n",
       "      <th>1</th>\n",
       "      <td>(mushroom cream sauce)</td>\n",
       "      <td>(escalope)</td>\n",
       "      <td>0.005733</td>\n",
       "      <td>0.300699</td>\n",
       "      <td>3.790833</td>\n",
       "    </tr>\n",
       "    <tr>\n",
       "      <th>4</th>\n",
       "      <td>(herb &amp; pepper)</td>\n",
       "      <td>(ground beef)</td>\n",
       "      <td>0.015998</td>\n",
       "      <td>0.323450</td>\n",
       "      <td>3.291994</td>\n",
       "    </tr>\n",
       "    <tr>\n",
       "      <th>6</th>\n",
       "      <td>(light cream)</td>\n",
       "      <td>(olive oil)</td>\n",
       "      <td>0.003200</td>\n",
       "      <td>0.205128</td>\n",
       "      <td>3.114710</td>\n",
       "    </tr>\n",
       "  </tbody>\n",
       "</table>\n",
       "</div>"
      ],
      "text/plain": [
       "           Left hand side Right hand side   Support  Confidence      Lift\n",
       "3         (fromage blanc)         (honey)  0.003333    0.245098  5.164271\n",
       "0           (light cream)       (chicken)  0.004533    0.290598  4.843951\n",
       "2                 (pasta)      (escalope)  0.005866    0.372881  4.700812\n",
       "8                 (pasta)        (shrimp)  0.005066    0.322034  4.506672\n",
       "7     (whole wheat pasta)     (olive oil)  0.007999    0.271493  4.122410\n",
       "5          (tomato sauce)   (ground beef)  0.005333    0.377358  3.840659\n",
       "1  (mushroom cream sauce)      (escalope)  0.005733    0.300699  3.790833\n",
       "4         (herb & pepper)   (ground beef)  0.015998    0.323450  3.291994\n",
       "6           (light cream)     (olive oil)  0.003200    0.205128  3.114710"
      ]
     },
     "execution_count": 19,
     "metadata": {},
     "output_type": "execute_result"
    }
   ],
   "source": [
    "resultsInDataFrame.sort_values(by=['Lift'], ascending=False)"
   ]
  },
  {
   "cell_type": "code",
   "execution_count": 20,
   "metadata": {
    "colab": {
     "base_uri": "https://localhost:8080/",
     "height": 332
    },
    "id": "LsHXK2VBS465",
    "outputId": "7f1b2137-8cdc-4dac-d5e1-283f78505a82"
   },
   "outputs": [
    {
     "data": {
      "text/html": [
       "<div>\n",
       "<style scoped>\n",
       "    .dataframe tbody tr th:only-of-type {\n",
       "        vertical-align: middle;\n",
       "    }\n",
       "\n",
       "    .dataframe tbody tr th {\n",
       "        vertical-align: top;\n",
       "    }\n",
       "\n",
       "    .dataframe thead th {\n",
       "        text-align: right;\n",
       "    }\n",
       "</style>\n",
       "<table border=\"1\" class=\"dataframe\">\n",
       "  <thead>\n",
       "    <tr style=\"text-align: right;\">\n",
       "      <th></th>\n",
       "      <th>Left hand side</th>\n",
       "      <th>Right hand side</th>\n",
       "      <th>Support</th>\n",
       "      <th>Confidence</th>\n",
       "      <th>Lift</th>\n",
       "    </tr>\n",
       "  </thead>\n",
       "  <tbody>\n",
       "    <tr>\n",
       "      <th>3</th>\n",
       "      <td>(fromage blanc)</td>\n",
       "      <td>(honey)</td>\n",
       "      <td>0.003333</td>\n",
       "      <td>0.245098</td>\n",
       "      <td>5.164271</td>\n",
       "    </tr>\n",
       "    <tr>\n",
       "      <th>0</th>\n",
       "      <td>(light cream)</td>\n",
       "      <td>(chicken)</td>\n",
       "      <td>0.004533</td>\n",
       "      <td>0.290598</td>\n",
       "      <td>4.843951</td>\n",
       "    </tr>\n",
       "    <tr>\n",
       "      <th>2</th>\n",
       "      <td>(pasta)</td>\n",
       "      <td>(escalope)</td>\n",
       "      <td>0.005866</td>\n",
       "      <td>0.372881</td>\n",
       "      <td>4.700812</td>\n",
       "    </tr>\n",
       "    <tr>\n",
       "      <th>8</th>\n",
       "      <td>(pasta)</td>\n",
       "      <td>(shrimp)</td>\n",
       "      <td>0.005066</td>\n",
       "      <td>0.322034</td>\n",
       "      <td>4.506672</td>\n",
       "    </tr>\n",
       "    <tr>\n",
       "      <th>7</th>\n",
       "      <td>(whole wheat pasta)</td>\n",
       "      <td>(olive oil)</td>\n",
       "      <td>0.007999</td>\n",
       "      <td>0.271493</td>\n",
       "      <td>4.122410</td>\n",
       "    </tr>\n",
       "    <tr>\n",
       "      <th>5</th>\n",
       "      <td>(tomato sauce)</td>\n",
       "      <td>(ground beef)</td>\n",
       "      <td>0.005333</td>\n",
       "      <td>0.377358</td>\n",
       "      <td>3.840659</td>\n",
       "    </tr>\n",
       "    <tr>\n",
       "      <th>1</th>\n",
       "      <td>(mushroom cream sauce)</td>\n",
       "      <td>(escalope)</td>\n",
       "      <td>0.005733</td>\n",
       "      <td>0.300699</td>\n",
       "      <td>3.790833</td>\n",
       "    </tr>\n",
       "    <tr>\n",
       "      <th>4</th>\n",
       "      <td>(herb &amp; pepper)</td>\n",
       "      <td>(ground beef)</td>\n",
       "      <td>0.015998</td>\n",
       "      <td>0.323450</td>\n",
       "      <td>3.291994</td>\n",
       "    </tr>\n",
       "    <tr>\n",
       "      <th>6</th>\n",
       "      <td>(light cream)</td>\n",
       "      <td>(olive oil)</td>\n",
       "      <td>0.003200</td>\n",
       "      <td>0.205128</td>\n",
       "      <td>3.114710</td>\n",
       "    </tr>\n",
       "  </tbody>\n",
       "</table>\n",
       "</div>"
      ],
      "text/plain": [
       "           Left hand side Right hand side   Support  Confidence      Lift\n",
       "3         (fromage blanc)         (honey)  0.003333    0.245098  5.164271\n",
       "0           (light cream)       (chicken)  0.004533    0.290598  4.843951\n",
       "2                 (pasta)      (escalope)  0.005866    0.372881  4.700812\n",
       "8                 (pasta)        (shrimp)  0.005066    0.322034  4.506672\n",
       "7     (whole wheat pasta)     (olive oil)  0.007999    0.271493  4.122410\n",
       "5          (tomato sauce)   (ground beef)  0.005333    0.377358  3.840659\n",
       "1  (mushroom cream sauce)      (escalope)  0.005733    0.300699  3.790833\n",
       "4         (herb & pepper)   (ground beef)  0.015998    0.323450  3.291994\n",
       "6           (light cream)     (olive oil)  0.003200    0.205128  3.114710"
      ]
     },
     "execution_count": 20,
     "metadata": {},
     "output_type": "execute_result"
    }
   ],
   "source": [
    "resultsInDataFrame.nlargest(n=10, columns='Lift')"
   ]
  },
  {
   "cell_type": "markdown",
   "metadata": {
    "id": "rWych6c1S7ni"
   },
   "source": [
    "## Notes\n",
    "\n",
    "  * min_confidence: I chose 0.8. I had too few rules, so I divided it by 2. And repeat.\n",
    "  * min_lift: a good lift is 3, below is irrelevant\n",
    "  * min_length & max_length: min and max number of elements in our rules.\n",
    "<br/>\n",
    "\n",
    "**Let's consider the following scenarios:**\n",
    "  * \"Buy 1 toothpaste, Get 1 toothbrush for free\". For that, we'd use min = max length = 2.\n",
    "  * \"Buy 10 products A and get 1 product B for free\" For that, min_length = 1 and max_length = 11."
   ]
  }
 ],
 "metadata": {
  "colab": {
   "collapsed_sections": [],
   "provenance": []
  },
  "kernelspec": {
   "display_name": "Python 3 (ipykernel)",
   "language": "python",
   "name": "python3"
  },
  "language_info": {
   "codemirror_mode": {
    "name": "ipython",
    "version": 3
   },
   "file_extension": ".py",
   "mimetype": "text/x-python",
   "name": "python",
   "nbconvert_exporter": "python",
   "pygments_lexer": "ipython3",
   "version": "3.10.8"
  }
 },
 "nbformat": 4,
 "nbformat_minor": 4
}
